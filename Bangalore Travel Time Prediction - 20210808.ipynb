{
 "cells": [
  {
   "cell_type": "code",
   "execution_count": 2,
   "metadata": {
    "colab": {
     "base_uri": "https://localhost:8080/"
    },
    "executionInfo": {
     "elapsed": 8102,
     "status": "ok",
     "timestamp": 1628373544158,
     "user": {
      "displayName": "Bernardus Ari Kuncoro",
      "photoUrl": "https://lh3.googleusercontent.com/a-/AOh14GjH6bHvm6kXCz5hjYp3PgXaOz-6orULR60KKCw5yw=s64",
      "userId": "07819531828965038709"
     },
     "user_tz": -420
    },
    "id": "eRxTTXAGEPnD",
    "outputId": "2499db2e-ae0b-4a10-f63d-79740f3c982e"
   },
   "outputs": [
    {
     "name": "stdout",
     "output_type": "stream",
     "text": [
      "Collecting geopandas\n",
      "  Downloading geopandas-0.9.0-py2.py3-none-any.whl (994 kB)\n",
      "\u001b[K     |████████████████████████████████| 994 kB 14.7 MB/s \n",
      "\u001b[?25hCollecting pyproj>=2.2.0\n",
      "  Downloading pyproj-3.1.0-cp37-cp37m-manylinux2010_x86_64.whl (6.6 MB)\n",
      "\u001b[K     |████████████████████████████████| 6.6 MB 23.0 MB/s \n",
      "\u001b[?25hCollecting fiona>=1.8\n",
      "  Downloading Fiona-1.8.20-cp37-cp37m-manylinux1_x86_64.whl (15.4 MB)\n",
      "\u001b[K     |████████████████████████████████| 15.4 MB 37 kB/s \n",
      "\u001b[?25hRequirement already satisfied: pandas>=0.24.0 in /usr/local/lib/python3.7/dist-packages (from geopandas) (1.1.5)\n",
      "Requirement already satisfied: shapely>=1.6 in /usr/local/lib/python3.7/dist-packages (from geopandas) (1.7.1)\n",
      "Requirement already satisfied: certifi in /usr/local/lib/python3.7/dist-packages (from fiona>=1.8->geopandas) (2021.5.30)\n",
      "Requirement already satisfied: six>=1.7 in /usr/local/lib/python3.7/dist-packages (from fiona>=1.8->geopandas) (1.15.0)\n",
      "Requirement already satisfied: click>=4.0 in /usr/local/lib/python3.7/dist-packages (from fiona>=1.8->geopandas) (7.1.2)\n",
      "Requirement already satisfied: setuptools in /usr/local/lib/python3.7/dist-packages (from fiona>=1.8->geopandas) (57.2.0)\n",
      "Collecting cligj>=0.5\n",
      "  Downloading cligj-0.7.2-py3-none-any.whl (7.1 kB)\n",
      "Requirement already satisfied: attrs>=17 in /usr/local/lib/python3.7/dist-packages (from fiona>=1.8->geopandas) (21.2.0)\n",
      "Collecting click-plugins>=1.0\n",
      "  Downloading click_plugins-1.1.1-py2.py3-none-any.whl (7.5 kB)\n",
      "Collecting munch\n",
      "  Downloading munch-2.5.0-py2.py3-none-any.whl (10 kB)\n",
      "Requirement already satisfied: numpy>=1.15.4 in /usr/local/lib/python3.7/dist-packages (from pandas>=0.24.0->geopandas) (1.19.5)\n",
      "Requirement already satisfied: pytz>=2017.2 in /usr/local/lib/python3.7/dist-packages (from pandas>=0.24.0->geopandas) (2018.9)\n",
      "Requirement already satisfied: python-dateutil>=2.7.3 in /usr/local/lib/python3.7/dist-packages (from pandas>=0.24.0->geopandas) (2.8.1)\n",
      "Installing collected packages: munch, cligj, click-plugins, pyproj, fiona, geopandas\n",
      "Successfully installed click-plugins-1.1.1 cligj-0.7.2 fiona-1.8.20 geopandas-0.9.0 munch-2.5.0 pyproj-3.1.0\n"
     ]
    }
   ],
   "source": [
    "!pip install geopandas"
   ]
  },
  {
   "cell_type": "code",
   "execution_count": 3,
   "metadata": {
    "executionInfo": {
     "elapsed": 637,
     "status": "ok",
     "timestamp": 1628373547282,
     "user": {
      "displayName": "Bernardus Ari Kuncoro",
      "photoUrl": "https://lh3.googleusercontent.com/a-/AOh14GjH6bHvm6kXCz5hjYp3PgXaOz-6orULR60KKCw5yw=s64",
      "userId": "07819531828965038709"
     },
     "user_tz": -420
    },
    "id": "WwRovsXEEYWb"
   },
   "outputs": [],
   "source": [
    "import pandas as pd\n",
    "import geopandas as gpd\n",
    "import numpy as np\n",
    "import requests\n",
    "import shapely\n",
    "import matplotlib.pyplot as plot\n",
    "%matplotlib inline"
   ]
  },
  {
   "cell_type": "markdown",
   "metadata": {
    "id": "3BQvq0ktEeHa"
   },
   "source": [
    "# **Reading Inputs**\n",
    "\n",
    "Here, we input Bangalore Travel time data for January 2020 to March 2020. We consider the weekly aggregate for modeling. "
   ]
  },
  {
   "cell_type": "code",
   "execution_count": 4,
   "metadata": {
    "executionInfo": {
     "elapsed": 2808,
     "status": "ok",
     "timestamp": 1628373554275,
     "user": {
      "displayName": "Bernardus Ari Kuncoro",
      "photoUrl": "https://lh3.googleusercontent.com/a-/AOh14GjH6bHvm6kXCz5hjYp3PgXaOz-6orULR60KKCw5yw=s64",
      "userId": "07819531828965038709"
     },
     "user_tz": -420
    },
    "id": "y5ovQgO_EjHS"
   },
   "outputs": [],
   "source": [
    "travel_times = pd.read_csv('/content/drive/MyDrive/SupervisedLearningScriptandMaterial/bangalore/Dataset/Travel_Times.csv')\n",
    "bnglr_wards_hourly = pd.read_csv('/content/drive/MyDrive/SupervisedLearningScriptandMaterial/bangalore/Dataset/bangalore-wards-2020-1-All-HourlyAggregate.csv')\n",
    "# bnglr_wards_weekly = pd.read_csv('/content/drive/MyDrive/SupervisedLearningScriptandMaterial/bangalore/Dataset/bangalore-wards-2020-1-WeeklyAggregate.csv')\n",
    "# bnglr_wards_monthly = pd.read_csv('/content/drive/MyDrive/SupervisedLearningScriptandMaterial/bangalore/Dataset/bangalore-wards-2020-1-All-MonthlyAggregate.csv')"
   ]
  },
  {
   "cell_type": "markdown",
   "metadata": {
    "id": "OYwaDKt_RZ2d"
   },
   "source": [
    "We would like to use hourly travel time average for modeling. Let's use this first, then you can play around with other time-series data!"
   ]
  },
  {
   "cell_type": "code",
   "execution_count": null,
   "metadata": {
    "colab": {
     "base_uri": "https://localhost:8080/",
     "height": 224
    },
    "executionInfo": {
     "elapsed": 10,
     "status": "ok",
     "timestamp": 1628161041980,
     "user": {
      "displayName": "Bernardus Ari Kuncoro",
      "photoUrl": "https://lh3.googleusercontent.com/a-/AOh14GjH6bHvm6kXCz5hjYp3PgXaOz-6orULR60KKCw5yw=s64",
      "userId": "07819531828965038709"
     },
     "user_tz": -420
    },
    "id": "STjMtOjBFB4Q",
    "outputId": "685e543b-4475-45f2-f0be-d0dcdf352d3d"
   },
   "outputs": [
    {
     "data": {
      "text/html": [
       "<div>\n",
       "<style scoped>\n",
       "    .dataframe tbody tr th:only-of-type {\n",
       "        vertical-align: middle;\n",
       "    }\n",
       "\n",
       "    .dataframe tbody tr th {\n",
       "        vertical-align: top;\n",
       "    }\n",
       "\n",
       "    .dataframe thead th {\n",
       "        text-align: right;\n",
       "    }\n",
       "</style>\n",
       "<table border=\"1\" class=\"dataframe\">\n",
       "  <thead>\n",
       "    <tr style=\"text-align: right;\">\n",
       "      <th></th>\n",
       "      <th>sourceid</th>\n",
       "      <th>dstid</th>\n",
       "      <th>hod</th>\n",
       "      <th>mean_travel_time</th>\n",
       "      <th>standard_deviation_travel_time</th>\n",
       "      <th>geometric_mean_travel_time</th>\n",
       "      <th>geometric_standard_deviation_travel_time</th>\n",
       "    </tr>\n",
       "  </thead>\n",
       "  <tbody>\n",
       "    <tr>\n",
       "      <th>0</th>\n",
       "      <td>183</td>\n",
       "      <td>54</td>\n",
       "      <td>22</td>\n",
       "      <td>3071.62</td>\n",
       "      <td>553.06</td>\n",
       "      <td>3016.74</td>\n",
       "      <td>1.22</td>\n",
       "    </tr>\n",
       "    <tr>\n",
       "      <th>1</th>\n",
       "      <td>186</td>\n",
       "      <td>24</td>\n",
       "      <td>22</td>\n",
       "      <td>991.61</td>\n",
       "      <td>241.55</td>\n",
       "      <td>969.45</td>\n",
       "      <td>1.22</td>\n",
       "    </tr>\n",
       "    <tr>\n",
       "      <th>2</th>\n",
       "      <td>181</td>\n",
       "      <td>74</td>\n",
       "      <td>22</td>\n",
       "      <td>2327.47</td>\n",
       "      <td>361.36</td>\n",
       "      <td>2300.49</td>\n",
       "      <td>1.16</td>\n",
       "    </tr>\n",
       "    <tr>\n",
       "      <th>3</th>\n",
       "      <td>187</td>\n",
       "      <td>14</td>\n",
       "      <td>22</td>\n",
       "      <td>1609.11</td>\n",
       "      <td>453.05</td>\n",
       "      <td>1551.08</td>\n",
       "      <td>1.31</td>\n",
       "    </tr>\n",
       "    <tr>\n",
       "      <th>4</th>\n",
       "      <td>182</td>\n",
       "      <td>64</td>\n",
       "      <td>22</td>\n",
       "      <td>2635.08</td>\n",
       "      <td>565.12</td>\n",
       "      <td>2580.12</td>\n",
       "      <td>1.22</td>\n",
       "    </tr>\n",
       "  </tbody>\n",
       "</table>\n",
       "</div>"
      ],
      "text/plain": [
       "   sourceid  ...  geometric_standard_deviation_travel_time\n",
       "0       183  ...                                      1.22\n",
       "1       186  ...                                      1.22\n",
       "2       181  ...                                      1.16\n",
       "3       187  ...                                      1.31\n",
       "4       182  ...                                      1.22\n",
       "\n",
       "[5 rows x 7 columns]"
      ]
     },
     "execution_count": 6,
     "metadata": {
      "tags": []
     },
     "output_type": "execute_result"
    }
   ],
   "source": [
    "bnglr_wards_hourly.head(5)"
   ]
  },
  {
   "cell_type": "code",
   "execution_count": 5,
   "metadata": {
    "colab": {
     "base_uri": "https://localhost:8080/",
     "height": 488
    },
    "executionInfo": {
     "elapsed": 920,
     "status": "ok",
     "timestamp": 1628373558989,
     "user": {
      "displayName": "Bernardus Ari Kuncoro",
      "photoUrl": "https://lh3.googleusercontent.com/a-/AOh14GjH6bHvm6kXCz5hjYp3PgXaOz-6orULR60KKCw5yw=s64",
      "userId": "07819531828965038709"
     },
     "user_tz": -420
    },
    "id": "xDtDKMDZFlgq",
    "outputId": "72a6891e-9997-46a6-f865-e91fa0bca20d"
   },
   "outputs": [
    {
     "data": {
      "text/plain": [
       "Text(0, 0.5, 'Mean travel time in mins')"
      ]
     },
     "execution_count": 5,
     "metadata": {
      "tags": []
     },
     "output_type": "execute_result"
    },
    {
     "data": {
      "image/png": "[encoded data removed]",
      "text/plain": [
       "<Figure size 1152x504 with 1 Axes>"
      ]
     },
     "metadata": {
      "needs_background": "light",
      "tags": []
     },
     "output_type": "display_data"
    }
   ],
   "source": [
    "mean_travel_time_by_hour_of_day = bnglr_wards_hourly.groupby('hod')['mean_travel_time'].mean()/60\n",
    "plt = mean_travel_time_by_hour_of_day.plot(kind=\"bar\", figsize=(16,7))\n",
    "plt.set_title('Mean travel times around Bangalore', fontsize=20)\n",
    "plt.set_xlabel('Hour of Day', fontsize = 16)\n",
    "plt.set_ylabel('Mean travel time in mins', fontsize = 16)"
   ]
  },
  {
   "cell_type": "code",
   "execution_count": 6,
   "metadata": {
    "colab": {
     "base_uri": "https://localhost:8080/",
     "height": 486
    },
    "executionInfo": {
     "elapsed": 459,
     "status": "ok",
     "timestamp": 1628373563708,
     "user": {
      "displayName": "Bernardus Ari Kuncoro",
      "photoUrl": "https://lh3.googleusercontent.com/a-/AOh14GjH6bHvm6kXCz5hjYp3PgXaOz-6orULR60KKCw5yw=s64",
      "userId": "07819531828965038709"
     },
     "user_tz": -420
    },
    "id": "R2XsjTlSG_BF",
    "outputId": "7e690abf-5445-4a49-d7df-dee24f87a26e"
   },
   "outputs": [
    {
     "data": {
      "text/plain": [
       "Text(0, 0.5, 'Std Dev off travel time in mins')"
      ]
     },
     "execution_count": 6,
     "metadata": {
      "tags": []
     },
     "output_type": "execute_result"
    },
    {
     "data": {
      "image/png": "[encoded data removed]",
      "text/plain": [
       "<Figure size 1152x504 with 1 Axes>"
      ]
     },
     "metadata": {
      "needs_background": "light",
      "tags": []
     },
     "output_type": "display_data"
    }
   ],
   "source": [
    "std_dev_travel_time_by_hour_of_day = bnglr_wards_hourly.groupby('hod')['standard_deviation_travel_time'].mean()/60\n",
    "plt = std_dev_travel_time_by_hour_of_day.plot(kind=\"bar\", figsize = (16,7))\n",
    "plt.set_title('Std Dev of travel times around Bangalore', fontsize =20)\n",
    "plt.set_xlabel('Hour of Day', fontsize = 12)\n",
    "plt.set_ylabel('Std Dev off travel time in mins', fontsize = 12)"
   ]
  },
  {
   "cell_type": "markdown",
   "metadata": {
    "id": "dVGeE7u8ITxQ"
   },
   "source": [
    "# **The Json Data (Map)**"
   ]
  },
  {
   "cell_type": "code",
   "execution_count": 7,
   "metadata": {
    "executionInfo": {
     "elapsed": 420,
     "status": "ok",
     "timestamp": 1628373573485,
     "user": {
      "displayName": "Bernardus Ari Kuncoro",
      "photoUrl": "https://lh3.googleusercontent.com/a-/AOh14GjH6bHvm6kXCz5hjYp3PgXaOz-6orULR60KKCw5yw=s64",
      "userId": "07819531828965038709"
     },
     "user_tz": -420
    },
    "id": "WlPR3SliH3qr"
   },
   "outputs": [],
   "source": [
    "bglr = gpd.read_file('/content/drive/MyDrive/SupervisedLearningScriptandMaterial/bangalore/Dataset/bangalore_wards.json')"
   ]
  },
  {
   "cell_type": "code",
   "execution_count": 8,
   "metadata": {
    "colab": {
     "base_uri": "https://localhost:8080/",
     "height": 282
    },
    "executionInfo": {
     "elapsed": 714,
     "status": "ok",
     "timestamp": 1628373580530,
     "user": {
      "displayName": "Bernardus Ari Kuncoro",
      "photoUrl": "https://lh3.googleusercontent.com/a-/AOh14GjH6bHvm6kXCz5hjYp3PgXaOz-6orULR60KKCw5yw=s64",
      "userId": "07819531828965038709"
     },
     "user_tz": -420
    },
    "id": "7FKb80L1Ifm0",
    "outputId": "37f39c33-6a94-4442-c8cd-e68ba1c17fe6"
   },
   "outputs": [
    {
     "data": {
      "text/plain": [
       "<matplotlib.axes._subplots.AxesSubplot at 0x7f5d26703490>"
      ]
     },
     "execution_count": 8,
     "metadata": {
      "tags": []
     },
     "output_type": "execute_result"
    },
    {
     "data": {
      "image/png": "[encoded data removed]",
      "text/plain": [
       "<Figure size 432x288 with 1 Axes>"
      ]
     },
     "metadata": {
      "needs_background": "light",
      "tags": []
     },
     "output_type": "display_data"
    }
   ],
   "source": [
    "bglr.plot()"
   ]
  },
  {
   "cell_type": "code",
   "execution_count": 9,
   "metadata": {
    "colab": {
     "base_uri": "https://localhost:8080/",
     "height": 289
    },
    "executionInfo": {
     "elapsed": 419,
     "status": "ok",
     "timestamp": 1628373585274,
     "user": {
      "displayName": "Bernardus Ari Kuncoro",
      "photoUrl": "https://lh3.googleusercontent.com/a-/AOh14GjH6bHvm6kXCz5hjYp3PgXaOz-6orULR60KKCw5yw=s64",
      "userId": "07819531828965038709"
     },
     "user_tz": -420
    },
    "id": "H8OEGfBvIiRr",
    "outputId": "b13bac79-8ea4-473a-a3cf-4463cb81355f"
   },
   "outputs": [
    {
     "data": {
      "text/html": [
       "<div>\n",
       "<style scoped>\n",
       "    .dataframe tbody tr th:only-of-type {\n",
       "        vertical-align: middle;\n",
       "    }\n",
       "\n",
       "    .dataframe tbody tr th {\n",
       "        vertical-align: top;\n",
       "    }\n",
       "\n",
       "    .dataframe thead th {\n",
       "        text-align: right;\n",
       "    }\n",
       "</style>\n",
       "<table border=\"1\" class=\"dataframe\">\n",
       "  <thead>\n",
       "    <tr style=\"text-align: right;\">\n",
       "      <th></th>\n",
       "      <th>WARD_NO</th>\n",
       "      <th>WARD_NAME</th>\n",
       "      <th>MOVEMENT_ID</th>\n",
       "      <th>DISPLAY_NAME</th>\n",
       "      <th>geometry</th>\n",
       "    </tr>\n",
       "  </thead>\n",
       "  <tbody>\n",
       "    <tr>\n",
       "      <th>0</th>\n",
       "      <td>2</td>\n",
       "      <td>Chowdeswari Ward</td>\n",
       "      <td>1</td>\n",
       "      <td>Unnamed Road, Bengaluru</td>\n",
       "      <td>MULTIPOLYGON (((77.59229 13.09720, 77.59094 13...</td>\n",
       "    </tr>\n",
       "    <tr>\n",
       "      <th>1</th>\n",
       "      <td>3</td>\n",
       "      <td>Atturu</td>\n",
       "      <td>2</td>\n",
       "      <td>9th Cross Bhel Layout, Adityanagar, Vidyaranya...</td>\n",
       "      <td>MULTIPOLYGON (((77.56862 13.12705, 77.57064 13...</td>\n",
       "    </tr>\n",
       "    <tr>\n",
       "      <th>2</th>\n",
       "      <td>4</td>\n",
       "      <td>Yelahanka Satellite Town</td>\n",
       "      <td>3</td>\n",
       "      <td>15th A Cross Road, Yelahanka Satellite Town, Y...</td>\n",
       "      <td>MULTIPOLYGON (((77.59094 13.09842, 77.59229 13...</td>\n",
       "    </tr>\n",
       "    <tr>\n",
       "      <th>3</th>\n",
       "      <td>51</td>\n",
       "      <td>Vijnanapura</td>\n",
       "      <td>4</td>\n",
       "      <td>SP Naidu Layout 4th Cross Street, SP Naidu Lay...</td>\n",
       "      <td>MULTIPOLYGON (((77.67683 13.01147, 77.67695 13...</td>\n",
       "    </tr>\n",
       "    <tr>\n",
       "      <th>4</th>\n",
       "      <td>53</td>\n",
       "      <td>Basavanapura</td>\n",
       "      <td>5</td>\n",
       "      <td>Medahalli Kadugodi Road, Bharathi Nagar, Krish...</td>\n",
       "      <td>MULTIPOLYGON (((77.72899 13.02061, 77.72994 13...</td>\n",
       "    </tr>\n",
       "  </tbody>\n",
       "</table>\n",
       "</div>"
      ],
      "text/plain": [
       "  WARD_NO  ...                                           geometry\n",
       "0       2  ...  MULTIPOLYGON (((77.59229 13.09720, 77.59094 13...\n",
       "1       3  ...  MULTIPOLYGON (((77.56862 13.12705, 77.57064 13...\n",
       "2       4  ...  MULTIPOLYGON (((77.59094 13.09842, 77.59229 13...\n",
       "3      51  ...  MULTIPOLYGON (((77.67683 13.01147, 77.67695 13...\n",
       "4      53  ...  MULTIPOLYGON (((77.72899 13.02061, 77.72994 13...\n",
       "\n",
       "[5 rows x 5 columns]"
      ]
     },
     "execution_count": 9,
     "metadata": {
      "tags": []
     },
     "output_type": "execute_result"
    }
   ],
   "source": [
    "bglr.head()"
   ]
  },
  {
   "cell_type": "markdown",
   "metadata": {
    "id": "C1JTSxTBIrJp"
   },
   "source": [
    "# **Picking centroids to represent an area**"
   ]
  },
  {
   "cell_type": "code",
   "execution_count": 10,
   "metadata": {
    "colab": {
     "base_uri": "https://localhost:8080/",
     "height": 625
    },
    "executionInfo": {
     "elapsed": 1500,
     "status": "ok",
     "timestamp": 1628373591370,
     "user": {
      "displayName": "Bernardus Ari Kuncoro",
      "photoUrl": "https://lh3.googleusercontent.com/a-/AOh14GjH6bHvm6kXCz5hjYp3PgXaOz-6orULR60KKCw5yw=s64",
      "userId": "07819531828965038709"
     },
     "user_tz": -420
    },
    "id": "TPA-1NOlIlgZ",
    "outputId": "29bcc586-6521-4091-e98a-1108996ce34b"
   },
   "outputs": [
    {
     "name": "stderr",
     "output_type": "stream",
     "text": [
      "/usr/local/lib/python3.7/dist-packages/ipykernel_launcher.py:3: UserWarning: Geometry is in a geographic CRS. Results from 'centroid' are likely incorrect. Use 'GeoSeries.to_crs()' to re-project geometries to a projected CRS before this operation.\n",
      "\n",
      "  This is separate from the ipykernel package so we can avoid doing imports until\n"
     ]
    },
    {
     "data": {
      "text/plain": [
       "<matplotlib.axes._subplots.AxesSubplot at 0x7f5d1d27a210>"
      ]
     },
     "execution_count": 10,
     "metadata": {
      "tags": []
     },
     "output_type": "execute_result"
    },
    {
     "data": {
      "image/png": "[encoded data removed]",
      "text/plain": [
       "<Figure size 648x648 with 1 Axes>"
      ]
     },
     "metadata": {
      "needs_background": "light",
      "tags": []
     },
     "output_type": "display_data"
    }
   ],
   "source": [
    "bglr = bglr.drop(columns=['WARD_NO', 'MOVEMENT_ID'])\n",
    "bglr_c = bglr.copy()\n",
    "bglr_c.geometry = bglr_c['geometry'].centroid\n",
    "fig, ax = plot.subplots(figsize=(9,9))\n",
    "bglr.plot(color='grey',ax=ax)\n",
    "bglr_c.plot(color='red',ax=ax)"
   ]
  },
  {
   "cell_type": "code",
   "execution_count": 11,
   "metadata": {
    "colab": {
     "base_uri": "https://localhost:8080/",
     "height": 204
    },
    "executionInfo": {
     "elapsed": 426,
     "status": "ok",
     "timestamp": 1628373595511,
     "user": {
      "displayName": "Bernardus Ari Kuncoro",
      "photoUrl": "https://lh3.googleusercontent.com/a-/AOh14GjH6bHvm6kXCz5hjYp3PgXaOz-6orULR60KKCw5yw=s64",
      "userId": "07819531828965038709"
     },
     "user_tz": -420
    },
    "id": "-XdGblvcJ7hG",
    "outputId": "02e42829-6f53-45ef-98af-b303906c09f2"
   },
   "outputs": [
    {
     "data": {
      "text/html": [
       "<div>\n",
       "<style scoped>\n",
       "    .dataframe tbody tr th:only-of-type {\n",
       "        vertical-align: middle;\n",
       "    }\n",
       "\n",
       "    .dataframe tbody tr th {\n",
       "        vertical-align: top;\n",
       "    }\n",
       "\n",
       "    .dataframe thead th {\n",
       "        text-align: right;\n",
       "    }\n",
       "</style>\n",
       "<table border=\"1\" class=\"dataframe\">\n",
       "  <thead>\n",
       "    <tr style=\"text-align: right;\">\n",
       "      <th></th>\n",
       "      <th>id</th>\n",
       "      <th>name</th>\n",
       "    </tr>\n",
       "  </thead>\n",
       "  <tbody>\n",
       "    <tr>\n",
       "      <th>0</th>\n",
       "      <td>1</td>\n",
       "      <td>Unnamed Road, Bengaluru</td>\n",
       "    </tr>\n",
       "    <tr>\n",
       "      <th>1</th>\n",
       "      <td>2</td>\n",
       "      <td>9th Cross Bhel Layout, Adityanagar, Vidyaranya...</td>\n",
       "    </tr>\n",
       "    <tr>\n",
       "      <th>2</th>\n",
       "      <td>3</td>\n",
       "      <td>15th A Cross Road, Yelahanka Satellite Town, Y...</td>\n",
       "    </tr>\n",
       "    <tr>\n",
       "      <th>3</th>\n",
       "      <td>4</td>\n",
       "      <td>SP Naidu Layout 4th Cross Street, SP Naidu Lay...</td>\n",
       "    </tr>\n",
       "    <tr>\n",
       "      <th>4</th>\n",
       "      <td>5</td>\n",
       "      <td>Medahalli Kadugodi Road, Bharathi Nagar, Krish...</td>\n",
       "    </tr>\n",
       "  </tbody>\n",
       "</table>\n",
       "</div>"
      ],
      "text/plain": [
       "   id                                               name\n",
       "0   1                            Unnamed Road, Bengaluru\n",
       "1   2  9th Cross Bhel Layout, Adityanagar, Vidyaranya...\n",
       "2   3  15th A Cross Road, Yelahanka Satellite Town, Y...\n",
       "3   4  SP Naidu Layout 4th Cross Street, SP Naidu Lay...\n",
       "4   5  Medahalli Kadugodi Road, Bharathi Nagar, Krish..."
      ]
     },
     "execution_count": 11,
     "metadata": {
      "tags": []
     },
     "output_type": "execute_result"
    }
   ],
   "source": [
    "id_to_dest = travel_times[['Destination Movement ID', 'Destination Display Name']]\n",
    "id_to_dest.columns = ['id', 'name']\n",
    "id_to_dest.head()"
   ]
  },
  {
   "cell_type": "markdown",
   "metadata": {
    "id": "NCHLqMxJTqk-"
   },
   "source": [
    "# Get some random points from each ward to diversify representation"
   ]
  },
  {
   "cell_type": "code",
   "execution_count": 12,
   "metadata": {
    "colab": {
     "base_uri": "https://localhost:8080/",
     "height": 204
    },
    "executionInfo": {
     "elapsed": 1524,
     "status": "ok",
     "timestamp": 1628373599512,
     "user": {
      "displayName": "Bernardus Ari Kuncoro",
      "photoUrl": "https://lh3.googleusercontent.com/a-/AOh14GjH6bHvm6kXCz5hjYp3PgXaOz-6orULR60KKCw5yw=s64",
      "userId": "07819531828965038709"
     },
     "user_tz": -420
    },
    "id": "YaSf9KYeKFYS",
    "outputId": "8eca24e3-2b04-47ef-f486-69bec7e40722"
   },
   "outputs": [
    {
     "data": {
      "text/html": [
       "<div>\n",
       "<style scoped>\n",
       "    .dataframe tbody tr th:only-of-type {\n",
       "        vertical-align: middle;\n",
       "    }\n",
       "\n",
       "    .dataframe tbody tr th {\n",
       "        vertical-align: top;\n",
       "    }\n",
       "\n",
       "    .dataframe thead th {\n",
       "        text-align: right;\n",
       "    }\n",
       "</style>\n",
       "<table border=\"1\" class=\"dataframe\">\n",
       "  <thead>\n",
       "    <tr style=\"text-align: right;\">\n",
       "      <th></th>\n",
       "      <th>WARD_NAME</th>\n",
       "      <th>DISPLAY_NAME</th>\n",
       "      <th>geometry</th>\n",
       "    </tr>\n",
       "  </thead>\n",
       "  <tbody>\n",
       "    <tr>\n",
       "      <th>155</th>\n",
       "      <td>Radhakrishna Temple Ward</td>\n",
       "      <td>400 8th Cross Road, RMV 2nd Stage, Dollars Col...</td>\n",
       "      <td>POINT (77.57150 13.04090)</td>\n",
       "    </tr>\n",
       "    <tr>\n",
       "      <th>414</th>\n",
       "      <td>Hombegowda Nagara</td>\n",
       "      <td>0 16th Cross Road, Lakkasandra Extension, Wils...</td>\n",
       "      <td>POINT (77.60173 12.94337)</td>\n",
       "    </tr>\n",
       "    <tr>\n",
       "      <th>587</th>\n",
       "      <td>Horamavu</td>\n",
       "      <td>0 Horamavu Agara Main Road, 1st Block, Mallapp...</td>\n",
       "      <td>POINT (77.64338 13.04550)</td>\n",
       "    </tr>\n",
       "    <tr>\n",
       "      <th>461</th>\n",
       "      <td>Lakkasandra</td>\n",
       "      <td>0 9th Cross Road, Rangadasapp Layout, Pukhraj ...</td>\n",
       "      <td>POINT (77.60583 12.94295)</td>\n",
       "    </tr>\n",
       "    <tr>\n",
       "      <th>359</th>\n",
       "      <td>Vijayanagar</td>\n",
       "      <td>1100 2nd Main Road, Hoshalli Extension, Stage ...</td>\n",
       "      <td>POINT (77.55239 12.97161)</td>\n",
       "    </tr>\n",
       "  </tbody>\n",
       "</table>\n",
       "</div>"
      ],
      "text/plain": [
       "                    WARD_NAME  ...                   geometry\n",
       "155  Radhakrishna Temple Ward  ...  POINT (77.57150 13.04090)\n",
       "414         Hombegowda Nagara  ...  POINT (77.60173 12.94337)\n",
       "587                  Horamavu  ...  POINT (77.64338 13.04550)\n",
       "461               Lakkasandra  ...  POINT (77.60583 12.94295)\n",
       "359               Vijayanagar  ...  POINT (77.55239 12.97161)\n",
       "\n",
       "[5 rows x 3 columns]"
      ]
     },
     "execution_count": 12,
     "metadata": {
      "tags": []
     },
     "output_type": "execute_result"
    }
   ],
   "source": [
    "from shapely.geometry import Point\n",
    "import random\n",
    "\n",
    "# The number of rows with random points to be created corresponding to each row in source df\n",
    "number = 3\n",
    "\n",
    "def random_points_in_polygon(number, polygon):\n",
    "    points = []\n",
    "    min_x, min_y, max_x, max_y = polygon.bounds\n",
    "    i= 0\n",
    "    while i < number:\n",
    "        point = Point(random.uniform(min_x, max_x), random.uniform(min_y, max_y))\n",
    "        if polygon.contains(point):\n",
    "            points.append(point)\n",
    "            i += 1\n",
    "    return points\n",
    "\n",
    "def diversify_geo_data(df):\n",
    "    new_df = gpd.GeoDataFrame()\n",
    "    common_columns = df.columns\n",
    "    common_columns.tolist().remove('geometry')\n",
    "    for row in df.itertuples():\n",
    "        points = random_points_in_polygon(number, row.geometry)\n",
    "        for point in points:\n",
    "            tmp = gpd.GeoDataFrame(columns=df.columns, data=[list(row[1:3]) + [point]])\n",
    "            new_df = new_df.append(tmp, ignore_index=True)\n",
    "    return new_df\n",
    "            \n",
    "\n",
    "diversified_points = diversify_geo_data(bglr)\n",
    "diversified_points.sample(5)"
   ]
  },
  {
   "cell_type": "code",
   "execution_count": 13,
   "metadata": {
    "colab": {
     "base_uri": "https://localhost:8080/"
    },
    "executionInfo": {
     "elapsed": 3,
     "status": "ok",
     "timestamp": 1628373600990,
     "user": {
      "displayName": "Bernardus Ari Kuncoro",
      "photoUrl": "https://lh3.googleusercontent.com/a-/AOh14GjH6bHvm6kXCz5hjYp3PgXaOz-6orULR60KKCw5yw=s64",
      "userId": "07819531828965038709"
     },
     "user_tz": -420
    },
    "id": "4SyGkn8AT_ep",
    "outputId": "ae88b6da-ec1c-480e-9e75-ae02789f66ed"
   },
   "outputs": [
    {
     "data": {
      "text/plain": [
       "(594, 3)"
      ]
     },
     "execution_count": 13,
     "metadata": {
      "tags": []
     },
     "output_type": "execute_result"
    }
   ],
   "source": [
    "diversified_points.shape"
   ]
  },
  {
   "cell_type": "code",
   "execution_count": 14,
   "metadata": {
    "colab": {
     "base_uri": "https://localhost:8080/",
     "height": 545
    },
    "executionInfo": {
     "elapsed": 1204,
     "status": "ok",
     "timestamp": 1628373602750,
     "user": {
      "displayName": "Bernardus Ari Kuncoro",
      "photoUrl": "https://lh3.googleusercontent.com/a-/AOh14GjH6bHvm6kXCz5hjYp3PgXaOz-6orULR60KKCw5yw=s64",
      "userId": "07819531828965038709"
     },
     "user_tz": -420
    },
    "id": "moC6jCiRUFAr",
    "outputId": "390cbd3f-f376-43ea-b6fd-51cbcb9278c0"
   },
   "outputs": [
    {
     "data": {
      "text/plain": [
       "<matplotlib.axes._subplots.AxesSubplot at 0x7f5d1b982050>"
      ]
     },
     "execution_count": 14,
     "metadata": {
      "tags": []
     },
     "output_type": "execute_result"
    },
    {
     "data": {
      "image/png": "[encoded data removed]",
      "text/plain": [
       "<Figure size 648x648 with 1 Axes>"
      ]
     },
     "metadata": {
      "needs_background": "light",
      "tags": []
     },
     "output_type": "display_data"
    }
   ],
   "source": [
    "fig, ax = plot.subplots(figsize=(9,9))\n",
    "bglr.plot(color='grey',ax=ax)\n",
    "diversified_points.plot(color='red',ax=ax)"
   ]
  },
  {
   "cell_type": "markdown",
   "metadata": {
    "id": "FCKRJ3-fUJr4"
   },
   "source": [
    "# Cleaning up data for analysis\n",
    "Got source and destination data and removed unneeded columns like geometric_mean_travel_time and geometric_standard_deviation_travel_time."
   ]
  },
  {
   "cell_type": "code",
   "execution_count": 15,
   "metadata": {
    "colab": {
     "base_uri": "https://localhost:8080/",
     "height": 289
    },
    "executionInfo": {
     "elapsed": 549,
     "status": "ok",
     "timestamp": 1628373604683,
     "user": {
      "displayName": "Bernardus Ari Kuncoro",
      "photoUrl": "https://lh3.googleusercontent.com/a-/AOh14GjH6bHvm6kXCz5hjYp3PgXaOz-6orULR60KKCw5yw=s64",
      "userId": "07819531828965038709"
     },
     "user_tz": -420
    },
    "id": "ObOAj92hUHDT",
    "outputId": "cd921ce7-860c-44df-f617-13ae019ea9cd"
   },
   "outputs": [
    {
     "data": {
      "text/html": [
       "<div>\n",
       "<style scoped>\n",
       "    .dataframe tbody tr th:only-of-type {\n",
       "        vertical-align: middle;\n",
       "    }\n",
       "\n",
       "    .dataframe tbody tr th {\n",
       "        vertical-align: top;\n",
       "    }\n",
       "\n",
       "    .dataframe thead th {\n",
       "        text-align: right;\n",
       "    }\n",
       "</style>\n",
       "<table border=\"1\" class=\"dataframe\">\n",
       "  <thead>\n",
       "    <tr style=\"text-align: right;\">\n",
       "      <th></th>\n",
       "      <th>sourceid</th>\n",
       "      <th>dstid</th>\n",
       "      <th>hod</th>\n",
       "      <th>mean_travel_time</th>\n",
       "      <th>standard_deviation_travel_time</th>\n",
       "      <th>Source Name</th>\n",
       "      <th>Destination Name</th>\n",
       "    </tr>\n",
       "  </thead>\n",
       "  <tbody>\n",
       "    <tr>\n",
       "      <th>272319</th>\n",
       "      <td>198</td>\n",
       "      <td>197</td>\n",
       "      <td>20</td>\n",
       "      <td>4001.08</td>\n",
       "      <td>583.40</td>\n",
       "      <td>BGS Road, Kodipalya, Bengaluru</td>\n",
       "      <td>0 3rd Cross Road, Manjunatha Layout, Marathaha...</td>\n",
       "    </tr>\n",
       "    <tr>\n",
       "      <th>272337</th>\n",
       "      <td>198</td>\n",
       "      <td>197</td>\n",
       "      <td>21</td>\n",
       "      <td>3636.68</td>\n",
       "      <td>614.63</td>\n",
       "      <td>BGS Road, Kodipalya, Bengaluru</td>\n",
       "      <td>0 3rd Cross Road, Manjunatha Layout, Marathaha...</td>\n",
       "    </tr>\n",
       "    <tr>\n",
       "      <th>272324</th>\n",
       "      <td>198</td>\n",
       "      <td>197</td>\n",
       "      <td>22</td>\n",
       "      <td>3082.11</td>\n",
       "      <td>471.47</td>\n",
       "      <td>BGS Road, Kodipalya, Bengaluru</td>\n",
       "      <td>0 3rd Cross Road, Manjunatha Layout, Marathaha...</td>\n",
       "    </tr>\n",
       "    <tr>\n",
       "      <th>272330</th>\n",
       "      <td>198</td>\n",
       "      <td>197</td>\n",
       "      <td>23</td>\n",
       "      <td>2905.84</td>\n",
       "      <td>619.53</td>\n",
       "      <td>BGS Road, Kodipalya, Bengaluru</td>\n",
       "      <td>0 3rd Cross Road, Manjunatha Layout, Marathaha...</td>\n",
       "    </tr>\n",
       "    <tr>\n",
       "      <th>366043</th>\n",
       "      <td>198</td>\n",
       "      <td>198</td>\n",
       "      <td>23</td>\n",
       "      <td>458.84</td>\n",
       "      <td>562.24</td>\n",
       "      <td>BGS Road, Kodipalya, Bengaluru</td>\n",
       "      <td>BGS Road, Kodipalya, Bengaluru</td>\n",
       "    </tr>\n",
       "  </tbody>\n",
       "</table>\n",
       "</div>"
      ],
      "text/plain": [
       "        sourceid  ...                                   Destination Name\n",
       "272319       198  ...  0 3rd Cross Road, Manjunatha Layout, Marathaha...\n",
       "272337       198  ...  0 3rd Cross Road, Manjunatha Layout, Marathaha...\n",
       "272324       198  ...  0 3rd Cross Road, Manjunatha Layout, Marathaha...\n",
       "272330       198  ...  0 3rd Cross Road, Manjunatha Layout, Marathaha...\n",
       "366043       198  ...                     BGS Road, Kodipalya, Bengaluru\n",
       "\n",
       "[5 rows x 7 columns]"
      ]
     },
     "execution_count": 15,
     "metadata": {
      "tags": []
     },
     "output_type": "execute_result"
    }
   ],
   "source": [
    "time_df = pd.merge(bnglr_wards_hourly, id_to_dest, left_on=['sourceid'], right_on=['id'], how='inner')\n",
    "time_df = time_df.drop(columns=['id', 'geometric_mean_travel_time', 'geometric_standard_deviation_travel_time'])\n",
    "time_df = time_df.rename(columns={'name': 'Source Name'})\n",
    "time_df = pd.merge(time_df, id_to_dest, left_on=['dstid'], right_on=['id'], how='inner')\n",
    "time_df = time_df.drop(columns=['id'])\n",
    "time_df = time_df.rename(columns={'name': 'Destination Name'})\n",
    "time_df = time_df.sort_values(by=['sourceid', 'dstid', 'hod'])\n",
    "time_df.tail(5)"
   ]
  },
  {
   "cell_type": "code",
   "execution_count": 16,
   "metadata": {
    "colab": {
     "base_uri": "https://localhost:8080/"
    },
    "executionInfo": {
     "elapsed": 7,
     "status": "ok",
     "timestamp": 1628373604684,
     "user": {
      "displayName": "Bernardus Ari Kuncoro",
      "photoUrl": "https://lh3.googleusercontent.com/a-/AOh14GjH6bHvm6kXCz5hjYp3PgXaOz-6orULR60KKCw5yw=s64",
      "userId": "07819531828965038709"
     },
     "user_tz": -420
    },
    "id": "7u9lc_3yUi4X",
    "outputId": "14446e0c-ce7a-440d-c3fc-da9d1c27f0fb"
   },
   "outputs": [
    {
     "data": {
      "text/plain": [
       "(198, 3)"
      ]
     },
     "execution_count": 16,
     "metadata": {
      "tags": []
     },
     "output_type": "execute_result"
    }
   ],
   "source": [
    "bglr_c.shape"
   ]
  },
  {
   "cell_type": "code",
   "execution_count": 17,
   "metadata": {
    "colab": {
     "base_uri": "https://localhost:8080/"
    },
    "executionInfo": {
     "elapsed": 6,
     "status": "ok",
     "timestamp": 1628373605828,
     "user": {
      "displayName": "Bernardus Ari Kuncoro",
      "photoUrl": "https://lh3.googleusercontent.com/a-/AOh14GjH6bHvm6kXCz5hjYp3PgXaOz-6orULR60KKCw5yw=s64",
      "userId": "07819531828965038709"
     },
     "user_tz": -420
    },
    "id": "0Ov3ze9xUnk6",
    "outputId": "3c59de55-3ef1-4652-814f-dd34179128dd"
   },
   "outputs": [
    {
     "data": {
      "text/plain": [
       "(594, 3)"
      ]
     },
     "execution_count": 17,
     "metadata": {
      "tags": []
     },
     "output_type": "execute_result"
    }
   ],
   "source": [
    "diversified_points.shape"
   ]
  },
  {
   "cell_type": "code",
   "execution_count": 18,
   "metadata": {
    "colab": {
     "base_uri": "https://localhost:8080/"
    },
    "executionInfo": {
     "elapsed": 2,
     "status": "ok",
     "timestamp": 1628373606452,
     "user": {
      "displayName": "Bernardus Ari Kuncoro",
      "photoUrl": "https://lh3.googleusercontent.com/a-/AOh14GjH6bHvm6kXCz5hjYp3PgXaOz-6orULR60KKCw5yw=s64",
      "userId": "07819531828965038709"
     },
     "user_tz": -420
    },
    "id": "UQ1zmdzGUqDe",
    "outputId": "18dafe59-30b0-49b8-aa8e-60e2e19c0fbf"
   },
   "outputs": [
    {
     "data": {
      "text/plain": [
       "(792, 3)"
      ]
     },
     "execution_count": 18,
     "metadata": {
      "tags": []
     },
     "output_type": "execute_result"
    }
   ],
   "source": [
    "full_bglr = bglr_c.append(diversified_points, ignore_index=True)\n",
    "full_bglr.shape"
   ]
  },
  {
   "cell_type": "code",
   "execution_count": 19,
   "metadata": {
    "colab": {
     "base_uri": "https://localhost:8080/",
     "height": 204
    },
    "executionInfo": {
     "elapsed": 4,
     "status": "ok",
     "timestamp": 1628373607773,
     "user": {
      "displayName": "Bernardus Ari Kuncoro",
      "photoUrl": "https://lh3.googleusercontent.com/a-/AOh14GjH6bHvm6kXCz5hjYp3PgXaOz-6orULR60KKCw5yw=s64",
      "userId": "07819531828965038709"
     },
     "user_tz": -420
    },
    "id": "zYEisQ0iVYR9",
    "outputId": "a0344ea4-a9e3-42e0-f0f2-2e73876740bd"
   },
   "outputs": [
    {
     "data": {
      "text/html": [
       "<div>\n",
       "<style scoped>\n",
       "    .dataframe tbody tr th:only-of-type {\n",
       "        vertical-align: middle;\n",
       "    }\n",
       "\n",
       "    .dataframe tbody tr th {\n",
       "        vertical-align: top;\n",
       "    }\n",
       "\n",
       "    .dataframe thead th {\n",
       "        text-align: right;\n",
       "    }\n",
       "</style>\n",
       "<table border=\"1\" class=\"dataframe\">\n",
       "  <thead>\n",
       "    <tr style=\"text-align: right;\">\n",
       "      <th></th>\n",
       "      <th>WARD_NAME</th>\n",
       "      <th>DISPLAY_NAME</th>\n",
       "      <th>geometry</th>\n",
       "    </tr>\n",
       "  </thead>\n",
       "  <tbody>\n",
       "    <tr>\n",
       "      <th>0</th>\n",
       "      <td>Chowdeswari Ward</td>\n",
       "      <td>Unnamed Road, Bengaluru</td>\n",
       "      <td>POINT (77.58042 13.12171)</td>\n",
       "    </tr>\n",
       "    <tr>\n",
       "      <th>1</th>\n",
       "      <td>Atturu</td>\n",
       "      <td>9th Cross Bhel Layout, Adityanagar, Vidyaranya...</td>\n",
       "      <td>POINT (77.56004 13.10280)</td>\n",
       "    </tr>\n",
       "    <tr>\n",
       "      <th>2</th>\n",
       "      <td>Yelahanka Satellite Town</td>\n",
       "      <td>15th A Cross Road, Yelahanka Satellite Town, Y...</td>\n",
       "      <td>POINT (77.58393 13.09099)</td>\n",
       "    </tr>\n",
       "    <tr>\n",
       "      <th>3</th>\n",
       "      <td>Vijnanapura</td>\n",
       "      <td>SP Naidu Layout 4th Cross Street, SP Naidu Lay...</td>\n",
       "      <td>POINT (77.66957 13.00606)</td>\n",
       "    </tr>\n",
       "    <tr>\n",
       "      <th>4</th>\n",
       "      <td>Basavanapura</td>\n",
       "      <td>Medahalli Kadugodi Road, Bharathi Nagar, Krish...</td>\n",
       "      <td>POINT (77.71546 13.01685)</td>\n",
       "    </tr>\n",
       "  </tbody>\n",
       "</table>\n",
       "</div>"
      ],
      "text/plain": [
       "                  WARD_NAME  ...                   geometry\n",
       "0          Chowdeswari Ward  ...  POINT (77.58042 13.12171)\n",
       "1                    Atturu  ...  POINT (77.56004 13.10280)\n",
       "2  Yelahanka Satellite Town  ...  POINT (77.58393 13.09099)\n",
       "3               Vijnanapura  ...  POINT (77.66957 13.00606)\n",
       "4              Basavanapura  ...  POINT (77.71546 13.01685)\n",
       "\n",
       "[5 rows x 3 columns]"
      ]
     },
     "execution_count": 19,
     "metadata": {
      "tags": []
     },
     "output_type": "execute_result"
    }
   ],
   "source": [
    "full_bglr.head()"
   ]
  },
  {
   "cell_type": "code",
   "execution_count": 20,
   "metadata": {
    "colab": {
     "base_uri": "https://localhost:8080/",
     "height": 332
    },
    "executionInfo": {
     "elapsed": 5479,
     "status": "ok",
     "timestamp": 1628373614538,
     "user": {
      "displayName": "Bernardus Ari Kuncoro",
      "photoUrl": "https://lh3.googleusercontent.com/a-/AOh14GjH6bHvm6kXCz5hjYp3PgXaOz-6orULR60KKCw5yw=s64",
      "userId": "07819531828965038709"
     },
     "user_tz": -420
    },
    "id": "-6fEQFXbUr9G",
    "outputId": "59328454-5950-48be-c759-7e9359621d0d"
   },
   "outputs": [
    {
     "data": {
      "text/html": [
       "<div>\n",
       "<style scoped>\n",
       "    .dataframe tbody tr th:only-of-type {\n",
       "        vertical-align: middle;\n",
       "    }\n",
       "\n",
       "    .dataframe tbody tr th {\n",
       "        vertical-align: top;\n",
       "    }\n",
       "\n",
       "    .dataframe thead th {\n",
       "        text-align: right;\n",
       "    }\n",
       "</style>\n",
       "<table border=\"1\" class=\"dataframe\">\n",
       "  <thead>\n",
       "    <tr style=\"text-align: right;\">\n",
       "      <th></th>\n",
       "      <th>sourceid</th>\n",
       "      <th>dstid</th>\n",
       "      <th>hod</th>\n",
       "      <th>mean_travel_time</th>\n",
       "      <th>standard_deviation_travel_time</th>\n",
       "      <th>Source Name</th>\n",
       "      <th>Destination Name</th>\n",
       "      <th>Source Ward Name</th>\n",
       "      <th>Source Geometry</th>\n",
       "      <th>Destination Ward Name</th>\n",
       "      <th>Destination Geometry</th>\n",
       "    </tr>\n",
       "  </thead>\n",
       "  <tbody>\n",
       "    <tr>\n",
       "      <th>9335731</th>\n",
       "      <td>120</td>\n",
       "      <td>149</td>\n",
       "      <td>10</td>\n",
       "      <td>2096.80</td>\n",
       "      <td>678.12</td>\n",
       "      <td>1100 2nd Main Road, Hoshalli Extension, Stage ...</td>\n",
       "      <td>300 6th Cross Road, 1st Block, 7th Block, Jaya...</td>\n",
       "      <td>Vijayanagar</td>\n",
       "      <td>POINT (77.54704 12.97209)</td>\n",
       "      <td>Karisandra</td>\n",
       "      <td>POINT (77.57391 12.92872)</td>\n",
       "    </tr>\n",
       "    <tr>\n",
       "      <th>4427038</th>\n",
       "      <td>108</td>\n",
       "      <td>74</td>\n",
       "      <td>17</td>\n",
       "      <td>1795.64</td>\n",
       "      <td>385.30</td>\n",
       "      <td>G/10, Mariappanapalya, Rajaji Nagar, Bengaluru</td>\n",
       "      <td>Saijothi, 1st Cross Road, D Costa Layout, Cook...</td>\n",
       "      <td>Prakash Nagar</td>\n",
       "      <td>POINT (77.55714 12.99642)</td>\n",
       "      <td>Maruthi Seva Nagar</td>\n",
       "      <td>POINT (77.63104 12.99871)</td>\n",
       "    </tr>\n",
       "    <tr>\n",
       "      <th>2959125</th>\n",
       "      <td>103</td>\n",
       "      <td>48</td>\n",
       "      <td>21</td>\n",
       "      <td>1335.46</td>\n",
       "      <td>671.33</td>\n",
       "      <td>22/A, West Of Chord Road, 3rd Stage, Basaveshw...</td>\n",
       "      <td>0 DB Street, M V Block, Guttahalli, Bengaluru</td>\n",
       "      <td>Basaveshwara Nagar</td>\n",
       "      <td>POINT (77.54413 12.98653)</td>\n",
       "      <td>Rajamahal Guttahalli</td>\n",
       "      <td>POINT (77.58098 13.00020)</td>\n",
       "    </tr>\n",
       "  </tbody>\n",
       "</table>\n",
       "</div>"
      ],
      "text/plain": [
       "         sourceid  dstid  ...  Destination Ward Name       Destination Geometry\n",
       "9335731       120    149  ...             Karisandra  POINT (77.57391 12.92872)\n",
       "4427038       108     74  ...     Maruthi Seva Nagar  POINT (77.63104 12.99871)\n",
       "2959125       103     48  ...   Rajamahal Guttahalli  POINT (77.58098 13.00020)\n",
       "\n",
       "[3 rows x 11 columns]"
      ]
     },
     "execution_count": 20,
     "metadata": {
      "tags": []
     },
     "output_type": "execute_result"
    }
   ],
   "source": [
    "time_df2 = pd.merge(time_df, full_bglr, left_on=['Source Name'], right_on=['DISPLAY_NAME'], how='inner')\n",
    "time_df2 = time_df2.drop(columns=['DISPLAY_NAME'])\n",
    "time_df2 = time_df2.rename(columns = {'WARD_NAME': 'Source Ward Name', 'geometry': 'Source Geometry'})\n",
    "time_df2 = pd.merge(time_df2, full_bglr, left_on=['Destination Name'], right_on=['DISPLAY_NAME'], how='inner')\n",
    "time_df2 = time_df2.drop(columns=['DISPLAY_NAME'])\n",
    "time_df2 = time_df2.rename(columns = {'WARD_NAME': 'Destination Ward Name', 'geometry': 'Destination Geometry'})\n",
    "time_df2.sample(3)"
   ]
  },
  {
   "cell_type": "code",
   "execution_count": 21,
   "metadata": {
    "colab": {
     "base_uri": "https://localhost:8080/"
    },
    "executionInfo": {
     "elapsed": 15,
     "status": "ok",
     "timestamp": 1628373614538,
     "user": {
      "displayName": "Bernardus Ari Kuncoro",
      "photoUrl": "https://lh3.googleusercontent.com/a-/AOh14GjH6bHvm6kXCz5hjYp3PgXaOz-6orULR60KKCw5yw=s64",
      "userId": "07819531828965038709"
     },
     "user_tz": -420
    },
    "id": "KMUHHsLAVrCe",
    "outputId": "42159331-8d27-420a-afa4-b55aee196500"
   },
   "outputs": [
    {
     "data": {
      "text/plain": [
       "(13227072, 11)"
      ]
     },
     "execution_count": 21,
     "metadata": {
      "tags": []
     },
     "output_type": "execute_result"
    }
   ],
   "source": [
    "time_df2.shape"
   ]
  },
  {
   "cell_type": "code",
   "execution_count": 32,
   "metadata": {
    "executionInfo": {
     "elapsed": 417,
     "status": "ok",
     "timestamp": 1628373984160,
     "user": {
      "displayName": "Bernardus Ari Kuncoro",
      "photoUrl": "https://lh3.googleusercontent.com/a-/AOh14GjH6bHvm6kXCz5hjYp3PgXaOz-6orULR60KKCw5yw=s64",
      "userId": "07819531828965038709"
     },
     "user_tz": -420
    },
    "id": "tDz7ne3hV03P"
   },
   "outputs": [],
   "source": [
    "import pickle\n",
    "def save_object(obj, filename):\n",
    "    with open(filename, 'wb') as output:  # Overwrites any existing file.\n",
    "        pickle.dump(obj, output, pickle.HIGHEST_PROTOCOL)\n",
    "\n",
    "import os.path\n",
    "def file_exists(filename):\n",
    "    return os.path.exists(filename)\n",
    "\n",
    "output_path = '/content/drive/MyDrive/SupervisedLearningScriptandMaterial/bangalore/Output/'"
   ]
  },
  {
   "cell_type": "code",
   "execution_count": 33,
   "metadata": {
    "executionInfo": {
     "elapsed": 2,
     "status": "ok",
     "timestamp": 1628373987775,
     "user": {
      "displayName": "Bernardus Ari Kuncoro",
      "photoUrl": "https://lh3.googleusercontent.com/a-/AOh14GjH6bHvm6kXCz5hjYp3PgXaOz-6orULR60KKCw5yw=s64",
      "userId": "07819531828965038709"
     },
     "user_tz": -420
    },
    "id": "QA9RcQuyW5uh"
   },
   "outputs": [],
   "source": [
    "import geopy.distance\n",
    "\n",
    "def calc_distance(x):\n",
    "    src_point = (x['Source Geometry'].y, x['Source Geometry'].x)\n",
    "    dest_point = (x['Destination Geometry'].y, x['Destination Geometry'].x)\n",
    "    return geopy.distance.geodesic(src_point, dest_point).kilometers\n",
    "\n",
    "filename = 'Df_for_modelling.bin'\n",
    "path = output_path + filename\n",
    "if file_exists(path):\n",
    "    # skip to next section since the results here are already precalculated\n",
    "    pass\n",
    "else:\n",
    "    print('Creating distance file')\n",
    "    time_df2['Geodesic Distance'] = time_df2.apply(func = calc_distance, axis=1)\n",
    "    df = time_df2"
   ]
  },
  {
   "cell_type": "code",
   "execution_count": 34,
   "metadata": {
    "executionInfo": {
     "elapsed": 26042,
     "status": "ok",
     "timestamp": 1628374024364,
     "user": {
      "displayName": "Bernardus Ari Kuncoro",
      "photoUrl": "https://lh3.googleusercontent.com/a-/AOh14GjH6bHvm6kXCz5hjYp3PgXaOz-6orULR60KKCw5yw=s64",
      "userId": "07819531828965038709"
     },
     "user_tz": -420
    },
    "id": "YFCi8Iv8Xeel"
   },
   "outputs": [],
   "source": [
    "filename = 'Df_for_modelling.bin'\n",
    "path = output_path + filename\n",
    "if file_exists(path):\n",
    "    with open(path, 'rb') as file:\n",
    "        final_df = pickle.load(file)\n",
    "else:\n",
    "    print('Creating final df file')\n",
    "    final_df = df.copy()\n",
    "    final_df['Source lat'] = final_df['Source Geometry'].apply(lambda pt: float(pt.y))\n",
    "    final_df['Source long'] = final_df['Source Geometry'].apply(lambda pt: float(pt.x))\n",
    "    final_df['Dest lat'] = final_df['Destination Geometry'].apply(lambda pt: float(pt.y))\n",
    "    final_df['Dest long'] = final_df['Destination Geometry'].apply(lambda pt: float(pt.x))\n",
    "\n",
    "    \n",
    "features = ['Source lat', 'Source long', 'Dest lat', 'Dest long', 'hod', 'Geodesic Distance']\n",
    "outcome = ['mean_travel_time']\n",
    "final_df = final_df[features + outcome]\n",
    "\n",
    "try:\n",
    "    save_object(final_df, filename)\n",
    "except:\n",
    "    pass\n",
    "  "
   ]
  },
  {
   "cell_type": "markdown",
   "metadata": {
    "id": "R5f1Nr2JYu7x"
   },
   "source": [
    "# Modeling\n",
    "Model without eval set "
   ]
  },
  {
   "cell_type": "code",
   "execution_count": 35,
   "metadata": {
    "executionInfo": {
     "elapsed": 5017,
     "status": "ok",
     "timestamp": 1628374034800,
     "user": {
      "displayName": "Bernardus Ari Kuncoro",
      "photoUrl": "https://lh3.googleusercontent.com/a-/AOh14GjH6bHvm6kXCz5hjYp3PgXaOz-6orULR60KKCw5yw=s64",
      "userId": "07819531828965038709"
     },
     "user_tz": -420
    },
    "id": "PvEKNT57Ytfz"
   },
   "outputs": [],
   "source": [
    "X = final_df[features]\n",
    "y = final_df[outcome]\n",
    "\n",
    "from sklearn.model_selection import train_test_split\n",
    "X_train, X_test, y_train, y_test = train_test_split(X, y, test_size=0.3, random_state=5)"
   ]
  },
  {
   "cell_type": "code",
   "execution_count": 56,
   "metadata": {
    "executionInfo": {
     "elapsed": 12351,
     "status": "ok",
     "timestamp": 1628375712347,
     "user": {
      "displayName": "Bernardus Ari Kuncoro",
      "photoUrl": "https://lh3.googleusercontent.com/a-/AOh14GjH6bHvm6kXCz5hjYp3PgXaOz-6orULR60KKCw5yw=s64",
      "userId": "07819531828965038709"
     },
     "user_tz": -420
    },
    "id": "mqzOJXOjZBPB"
   },
   "outputs": [],
   "source": [
    "# takes time : 30 mins (100 n_estimators)\n",
    "import xgboost as xgb\n",
    "\n",
    "filename = 'XGB_model_5.bin'\n",
    "path = output_path + filename\n",
    "if file_exists(path):\n",
    "    with open(path, 'rb') as file:\n",
    "        my_model = pickle.load(file)\n",
    "else:\n",
    "    my_model = xgb.XGBRegressor(n_estimators=100, learning_rate=0.05, n_jobs=4, objective='reg:squarederror')\n",
    "    my_model.fit(X_train, y_train,verbose=False)\n",
    "    \n",
    "try:    \n",
    "    save_object(X_train, output_path + 'train_set_x.bin')\n",
    "    save_object(y_train, output_path + 'train_set_y.bin')\n",
    "    save_object(X_test, output_path + 'test_set_x.bin')\n",
    "    save_object(y_test, output_path + 'test_set_y.bin')\n",
    "    save_object(my_model, output_path + filename)\n",
    "except:\n",
    "    pass"
   ]
  },
  {
   "cell_type": "code",
   "execution_count": 57,
   "metadata": {
    "colab": {
     "base_uri": "https://localhost:8080/",
     "height": 312
    },
    "executionInfo": {
     "elapsed": 14,
     "status": "ok",
     "timestamp": 1628375712347,
     "user": {
      "displayName": "Bernardus Ari Kuncoro",
      "photoUrl": "https://lh3.googleusercontent.com/a-/AOh14GjH6bHvm6kXCz5hjYp3PgXaOz-6orULR60KKCw5yw=s64",
      "userId": "07819531828965038709"
     },
     "user_tz": -420
    },
    "id": "UeV6_ESMZDny",
    "outputId": "c4f4a899-0c57-4d33-c93e-ae5a5a6c3fd5"
   },
   "outputs": [
    {
     "data": {
      "text/plain": [
       "<matplotlib.axes._subplots.AxesSubplot at 0x7f5ccd4cec50>"
      ]
     },
     "execution_count": 57,
     "metadata": {
      "tags": []
     },
     "output_type": "execute_result"
    },
    {
     "data": {
      "image/png": "[encoded data removed]",
      "text/plain": [
       "<Figure size 432x288 with 1 Axes>"
      ]
     },
     "metadata": {
      "needs_background": "light",
      "tags": []
     },
     "output_type": "display_data"
    }
   ],
   "source": [
    "xgb.plot_importance(my_model)"
   ]
  },
  {
   "cell_type": "code",
   "execution_count": 58,
   "metadata": {
    "cellView": "code",
    "colab": {
     "base_uri": "https://localhost:8080/"
    },
    "executionInfo": {
     "elapsed": 7906,
     "status": "ok",
     "timestamp": 1628375723035,
     "user": {
      "displayName": "Bernardus Ari Kuncoro",
      "photoUrl": "https://lh3.googleusercontent.com/a-/AOh14GjH6bHvm6kXCz5hjYp3PgXaOz-6orULR60KKCw5yw=s64",
      "userId": "07819531828965038709"
     },
     "user_tz": -420
    },
    "id": "vfyTR_NaZGnn",
    "outputId": "5e1c2465-26c8-4ef3-dd68-a96a05e03bb0"
   },
   "outputs": [
    {
     "name": "stdout",
     "output_type": "stream",
     "text": [
      "R2: 0.8649942414749451\n",
      "\n",
      "MSE: 159157.1102226522\n",
      "\n",
      "RMSE: 398.9449964878018\n",
      "\n",
      "MAE: 295.80051557540463\n",
      "\n"
     ]
    }
   ],
   "source": [
    "#@title Default title text\n",
    "predictions = my_model.predict(X_test)\n",
    "\n",
    "from sklearn import metrics\n",
    "\n",
    "r2 = metrics.r2_score(y_test, predictions)\n",
    "print('R2: {}\\n'.format(r2))\n",
    "\n",
    "mse = metrics.mean_squared_error(y_test, predictions)\n",
    "print('MSE: {}\\n'.format(mse))\n",
    "\n",
    "print('RMSE: {}\\n'.format(np.sqrt(mse)))\n",
    "\n",
    "mae = metrics.mean_absolute_error(y_test, predictions)\n",
    "print('MAE: {}\\n'.format(mae))\n"
   ]
  },
  {
   "cell_type": "code",
   "execution_count": 59,
   "metadata": {
    "colab": {
     "base_uri": "https://localhost:8080/",
     "height": 348
    },
    "executionInfo": {
     "elapsed": 24407,
     "status": "ok",
     "timestamp": 1628375749364,
     "user": {
      "displayName": "Bernardus Ari Kuncoro",
      "photoUrl": "https://lh3.googleusercontent.com/a-/AOh14GjH6bHvm6kXCz5hjYp3PgXaOz-6orULR60KKCw5yw=s64",
      "userId": "07819531828965038709"
     },
     "user_tz": -420
    },
    "id": "U7TKPnvCDV5S",
    "outputId": "23eaaead-adf3-4d75-b03a-9fcb946d0440"
   },
   "outputs": [
    {
     "name": "stderr",
     "output_type": "stream",
     "text": [
      "/usr/local/lib/python3.7/dist-packages/IPython/core/pylabtools.py:125: UserWarning: Creating legend with loc=\"best\" can be slow with large amounts of data.\n",
      "  fig.canvas.print_figure(bytes_io, **kw)\n"
     ]
    },
    {
     "data": {
      "image/png": "[encoded data removed]",
      "text/plain": [
       "<Figure size 432x288 with 1 Axes>"
      ]
     },
     "metadata": {
      "needs_background": "light",
      "tags": []
     },
     "output_type": "display_data"
    }
   ],
   "source": [
    "x_ax = range(len(y_test))\n",
    "plot.plot(x_ax, y_test, label=\"actual\")\n",
    "plot.plot(x_ax, predictions, label=\"predicted\")\n",
    "\n",
    "plot.title(\"Mean travel times actual and predicted data\")\n",
    "\n",
    "plot.legend()\n",
    "plot.show()"
   ]
  },
  {
   "cell_type": "code",
   "execution_count": 60,
   "metadata": {
    "colab": {
     "base_uri": "https://localhost:8080/",
     "height": 279
    },
    "executionInfo": {
     "elapsed": 10381,
     "status": "ok",
     "timestamp": 1628375762192,
     "user": {
      "displayName": "Bernardus Ari Kuncoro",
      "photoUrl": "https://lh3.googleusercontent.com/a-/AOh14GjH6bHvm6kXCz5hjYp3PgXaOz-6orULR60KKCw5yw=s64",
      "userId": "07819531828965038709"
     },
     "user_tz": -420
    },
    "id": "BAcS1EcsDZUh",
    "outputId": "3b87fc5b-d762-4927-d775-ce9269b0c577"
   },
   "outputs": [
    {
     "data": {
      "image/png": "[encoded data removed]",
      "text/plain": [
       "<Figure size 432x288 with 1 Axes>"
      ]
     },
     "metadata": {
      "needs_background": "light",
      "tags": []
     },
     "output_type": "display_data"
    }
   ],
   "source": [
    "fig, ax = plot.subplots()\n",
    "ax.scatter(y_test, predictions)\n",
    "ax.plot([y_test.min(), y_test.max()], [y_test.min(), y_test.max()], 'k--', lw=4)\n",
    "ax.set_xlabel('Measured Time')\n",
    "ax.set_ylabel('Predicted Time')\n",
    "plot.show()"
   ]
  },
  {
   "cell_type": "markdown",
   "metadata": {
    "id": "K-C0rGBODru7"
   },
   "source": [
    "## Testing with some random points"
   ]
  },
  {
   "cell_type": "code",
   "execution_count": 61,
   "metadata": {
    "executionInfo": {
     "elapsed": 563,
     "status": "ok",
     "timestamp": 1628375772919,
     "user": {
      "displayName": "Bernardus Ari Kuncoro",
      "photoUrl": "https://lh3.googleusercontent.com/a-/AOh14GjH6bHvm6kXCz5hjYp3PgXaOz-6orULR60KKCw5yw=s64",
      "userId": "07819531828965038709"
     },
     "user_tz": -420
    },
    "id": "Vj4jJPzEDse8"
   },
   "outputs": [],
   "source": [
    "features = ['Source lat', 'Source long', 'Dest lat', 'Dest long', 'hod', 'Geodesic Distance']\n",
    "outcome = ['mean_travel_time']\n",
    "\n",
    "def get_distance(lat1, long1, lat2, long2):\n",
    "    src_point = (lat1, long1)\n",
    "    dest_point = (lat2, long2)\n",
    "    return geopy.distance.geodesic(src_point, dest_point).kilometers\n",
    "\n",
    "def prepare_df(lat1, long1, lat2, long2, hod):\n",
    "    distance = get_distance(lat1, long1, lat2, long2)\n",
    "    return pd.DataFrame(columns = ['Source lat', 'Source long', 'Dest lat', 'Dest long', 'hod', 'Geodesic Distance'],\n",
    "                 data = [[lat1, long1, lat2, long2, hod, distance]])\n",
    "    \n",
    "def predict(df):\n",
    "    return my_model.predict(df[features])"
   ]
  },
  {
   "cell_type": "code",
   "execution_count": 62,
   "metadata": {
    "executionInfo": {
     "elapsed": 3,
     "status": "ok",
     "timestamp": 1628375773488,
     "user": {
      "displayName": "Bernardus Ari Kuncoro",
      "photoUrl": "https://lh3.googleusercontent.com/a-/AOh14GjH6bHvm6kXCz5hjYp3PgXaOz-6orULR60KKCw5yw=s64",
      "userId": "07819531828965038709"
     },
     "user_tz": -420
    },
    "id": "MXqMd3znDv2a"
   },
   "outputs": [],
   "source": [
    "def compare(actual, predicted):\n",
    "#     actual = [act[0] for act in actual[outcome].values.tolist()]\n",
    "#     predicted = predicted.tolist()\n",
    "    return pd.DataFrame(data = {'actual': actual, 'prediction': predicted})"
   ]
  },
  {
   "cell_type": "code",
   "execution_count": 63,
   "metadata": {
    "executionInfo": {
     "elapsed": 3,
     "status": "ok",
     "timestamp": 1628375773488,
     "user": {
      "displayName": "Bernardus Ari Kuncoro",
      "photoUrl": "https://lh3.googleusercontent.com/a-/AOh14GjH6bHvm6kXCz5hjYp3PgXaOz-6orULR60KKCw5yw=s64",
      "userId": "07819531828965038709"
     },
     "user_tz": -420
    },
    "id": "doRFbe_9Dwef"
   },
   "outputs": [],
   "source": [
    "def get_random_points_in_bangalore(number):\n",
    "    points = []\n",
    "    min_x, min_y, max_x, max_y = 12.85, 77.45, 13.0, 77.75  \n",
    "    i= 0\n",
    "    while i < number:\n",
    "        point = (random.uniform(min_x, max_x), random.uniform(min_y, max_y))\n",
    "        i += 1\n",
    "        points.append(point)\n",
    "    return points\n"
   ]
  },
  {
   "cell_type": "code",
   "execution_count": 64,
   "metadata": {
    "executionInfo": {
     "elapsed": 3,
     "status": "ok",
     "timestamp": 1628375773489,
     "user": {
      "displayName": "Bernardus Ari Kuncoro",
      "photoUrl": "https://lh3.googleusercontent.com/a-/AOh14GjH6bHvm6kXCz5hjYp3PgXaOz-6orULR60KKCw5yw=s64",
      "userId": "07819531828965038709"
     },
     "user_tz": -420
    },
    "id": "a7cvdRnYD2Gq"
   },
   "outputs": [],
   "source": [
    "points = [((12.999289603200602, 77.72750046509455),\n",
    "  (12.900586869608652, 77.57751972070913)),\n",
    " ((12.935917259525278, 77.61353555551875),\n",
    "  (12.856440148061886, 77.48546536718554)),\n",
    " ((12.897459477917653, 77.7095308106631),\n",
    "  (12.996842230621631, 77.64938231715406)),\n",
    " ((12.936661694778596, 77.71873838420447),\n",
    "  (12.907286088453898, 77.4772158363428)),\n",
    " ((12.88453533783865, 77.70914845848147),\n",
    "  (12.893719016027402, 77.71748845762684)),\n",
    " ((12.90661849980788, 77.6359030720415),\n",
    "  (12.986913454190185, 77.6667791482254)),\n",
    " ((12.89600641097292, 77.70444731327966),\n",
    "  (12.98987526206819, 77.60524558740501)),\n",
    " ((12.897523292566822, 77.56067149766076),\n",
    "  (12.894608188894253, 77.66337661025209)),\n",
    " ((12.86194623889842, 77.56338966329798),\n",
    "  (12.944443289052925, 77.4887976744094)),\n",
    " ((12.858621405573748, 77.46556646993612),\n",
    "  (12.90990445061544, 77.58937083560666))]\n",
    "\n",
    "hours_of_day = [18, 7, 18, 2, 16, 23, 10, 8, 4, 16]"
   ]
  },
  {
   "cell_type": "code",
   "execution_count": 65,
   "metadata": {
    "executionInfo": {
     "elapsed": 3,
     "status": "ok",
     "timestamp": 1628375773489,
     "user": {
      "displayName": "Bernardus Ari Kuncoro",
      "photoUrl": "https://lh3.googleusercontent.com/a-/AOh14GjH6bHvm6kXCz5hjYp3PgXaOz-6orULR60KKCw5yw=s64",
      "userId": "07819531828965038709"
     },
     "user_tz": -420
    },
    "id": "jF8jw0WvD9kR"
   },
   "outputs": [],
   "source": [
    "# taking average of thetime bounds given by manual google maps travel times for same coordinates and departure time\n",
    "travel_times_gmaps_in_mins = [75, 55, 43, 63, 7, 45, 60, 50, 40, 50]\n",
    "travel_times_gmaps = [t*60 for t in travel_times_gmaps_in_mins]"
   ]
  },
  {
   "cell_type": "code",
   "execution_count": 66,
   "metadata": {
    "colab": {
     "base_uri": "https://localhost:8080/"
    },
    "executionInfo": {
     "elapsed": 6,
     "status": "ok",
     "timestamp": 1628375773933,
     "user": {
      "displayName": "Bernardus Ari Kuncoro",
      "photoUrl": "https://lh3.googleusercontent.com/a-/AOh14GjH6bHvm6kXCz5hjYp3PgXaOz-6orULR60KKCw5yw=s64",
      "userId": "07819531828965038709"
     },
     "user_tz": -420
    },
    "id": "u_fIOKNmD_nD",
    "outputId": "82a361ff-d421-48be-d15b-3512b69ddbe0"
   },
   "outputs": [
    {
     "data": {
      "text/plain": [
       "[70.92383626302083,\n",
       " 49.459554036458336,\n",
       " 54.1020751953125,\n",
       " 42.60961100260417,\n",
       " 9.989990234375,\n",
       " 28.461260986328124,\n",
       " 56.235677083333336,\n",
       " 43.97960205078125,\n",
       " 26.589447021484375,\n",
       " 56.15357666015625]"
      ]
     },
     "execution_count": 66,
     "metadata": {
      "tags": []
     },
     "output_type": "execute_result"
    }
   ],
   "source": [
    "travel_times_model = []\n",
    "points1 = [p[0] for p in points]\n",
    "points2 = [p[1] for p in points]\n",
    "for point1, point2, hod in zip(points1, points2, hours_of_day):\n",
    "    lat1, long1, lat2, long2 = point1[0], point1[1], point2[0], point2[1]\n",
    "    p = predict(prepare_df(lat1, long1, lat2, long2, hod))\n",
    "    p = p.tolist()[0]\n",
    "    travel_times_model.append(p)\n",
    "[t/60 for t in travel_times_model]"
   ]
  },
  {
   "cell_type": "code",
   "execution_count": 67,
   "metadata": {
    "colab": {
     "base_uri": "https://localhost:8080/",
     "height": 359
    },
    "executionInfo": {
     "elapsed": 6,
     "status": "ok",
     "timestamp": 1628375773934,
     "user": {
      "displayName": "Bernardus Ari Kuncoro",
      "photoUrl": "https://lh3.googleusercontent.com/a-/AOh14GjH6bHvm6kXCz5hjYp3PgXaOz-6orULR60KKCw5yw=s64",
      "userId": "07819531828965038709"
     },
     "user_tz": -420
    },
    "id": "N5yyxJArEBfd",
    "outputId": "28650ea4-d3ff-4031-f67d-967333844c96"
   },
   "outputs": [
    {
     "data": {
      "text/html": [
       "<div>\n",
       "<style scoped>\n",
       "    .dataframe tbody tr th:only-of-type {\n",
       "        vertical-align: middle;\n",
       "    }\n",
       "\n",
       "    .dataframe tbody tr th {\n",
       "        vertical-align: top;\n",
       "    }\n",
       "\n",
       "    .dataframe thead th {\n",
       "        text-align: right;\n",
       "    }\n",
       "</style>\n",
       "<table border=\"1\" class=\"dataframe\">\n",
       "  <thead>\n",
       "    <tr style=\"text-align: right;\">\n",
       "      <th></th>\n",
       "      <th>actual</th>\n",
       "      <th>prediction</th>\n",
       "    </tr>\n",
       "  </thead>\n",
       "  <tbody>\n",
       "    <tr>\n",
       "      <th>0</th>\n",
       "      <td>4500</td>\n",
       "      <td>4255.430176</td>\n",
       "    </tr>\n",
       "    <tr>\n",
       "      <th>1</th>\n",
       "      <td>3300</td>\n",
       "      <td>2967.573242</td>\n",
       "    </tr>\n",
       "    <tr>\n",
       "      <th>2</th>\n",
       "      <td>2580</td>\n",
       "      <td>3246.124512</td>\n",
       "    </tr>\n",
       "    <tr>\n",
       "      <th>3</th>\n",
       "      <td>3780</td>\n",
       "      <td>2556.576660</td>\n",
       "    </tr>\n",
       "    <tr>\n",
       "      <th>4</th>\n",
       "      <td>420</td>\n",
       "      <td>599.399414</td>\n",
       "    </tr>\n",
       "    <tr>\n",
       "      <th>5</th>\n",
       "      <td>2700</td>\n",
       "      <td>1707.675659</td>\n",
       "    </tr>\n",
       "    <tr>\n",
       "      <th>6</th>\n",
       "      <td>3600</td>\n",
       "      <td>3374.140625</td>\n",
       "    </tr>\n",
       "    <tr>\n",
       "      <th>7</th>\n",
       "      <td>3000</td>\n",
       "      <td>2638.776123</td>\n",
       "    </tr>\n",
       "    <tr>\n",
       "      <th>8</th>\n",
       "      <td>2400</td>\n",
       "      <td>1595.366821</td>\n",
       "    </tr>\n",
       "    <tr>\n",
       "      <th>9</th>\n",
       "      <td>3000</td>\n",
       "      <td>3369.214600</td>\n",
       "    </tr>\n",
       "  </tbody>\n",
       "</table>\n",
       "</div>"
      ],
      "text/plain": [
       "   actual   prediction\n",
       "0    4500  4255.430176\n",
       "1    3300  2967.573242\n",
       "2    2580  3246.124512\n",
       "3    3780  2556.576660\n",
       "4     420   599.399414\n",
       "5    2700  1707.675659\n",
       "6    3600  3374.140625\n",
       "7    3000  2638.776123\n",
       "8    2400  1595.366821\n",
       "9    3000  3369.214600"
      ]
     },
     "execution_count": 67,
     "metadata": {
      "tags": []
     },
     "output_type": "execute_result"
    }
   ],
   "source": [
    "compare(travel_times_gmaps, travel_times_model)"
   ]
  },
  {
   "cell_type": "code",
   "execution_count": 68,
   "metadata": {
    "colab": {
     "base_uri": "https://localhost:8080/",
     "height": 281
    },
    "executionInfo": {
     "elapsed": 511,
     "status": "ok",
     "timestamp": 1628375774440,
     "user": {
      "displayName": "Bernardus Ari Kuncoro",
      "photoUrl": "https://lh3.googleusercontent.com/a-/AOh14GjH6bHvm6kXCz5hjYp3PgXaOz-6orULR60KKCw5yw=s64",
      "userId": "07819531828965038709"
     },
     "user_tz": -420
    },
    "id": "-bm0MXOmED7j",
    "outputId": "9196bdb5-e2e0-41a5-e795-4b1b5938b308"
   },
   "outputs": [
    {
     "data": {
      "image/png": "[encoded data removed]",
      "text/plain": [
       "<Figure size 432x288 with 1 Axes>"
      ]
     },
     "metadata": {
      "needs_background": "light",
      "tags": []
     },
     "output_type": "display_data"
    }
   ],
   "source": [
    "x_ax = range(len(travel_times_model))\n",
    "plot.plot(x_ax, travel_times_gmaps, label=\"original\")\n",
    "plot.plot(x_ax, travel_times_model, label=\"predicted\")\n",
    "\n",
    "plot.title(\"Mean travel times actual and predicted data\")\n",
    "\n",
    "plot.legend()\n",
    "plot.show()"
   ]
  },
  {
   "cell_type": "markdown",
   "metadata": {
    "id": "N6gGT6U3EN2i"
   },
   "source": [
    "## Live Testing"
   ]
  },
  {
   "cell_type": "code",
   "execution_count": 69,
   "metadata": {
    "colab": {
     "base_uri": "https://localhost:8080/"
    },
    "executionInfo": {
     "elapsed": 2,
     "status": "ok",
     "timestamp": 1628375775258,
     "user": {
      "displayName": "Bernardus Ari Kuncoro",
      "photoUrl": "https://lh3.googleusercontent.com/a-/AOh14GjH6bHvm6kXCz5hjYp3PgXaOz-6orULR60KKCw5yw=s64",
      "userId": "07819531828965038709"
     },
     "user_tz": -420
    },
    "id": "_TQu2rjVEFt_",
    "outputId": "7db3d76e-e6c7-42bb-d792-0aea278b26e5"
   },
   "outputs": [
    {
     "data": {
      "text/plain": [
       "array([1725.0848], dtype=float32)"
      ]
     },
     "execution_count": 69,
     "metadata": {
      "tags": []
     },
     "output_type": "execute_result"
    }
   ],
   "source": [
    "lat1 = 13.002385\n",
    "long1 = 77.568491\n",
    "lat2 = 13.061071\n",
    "long2 = 77.597371\n",
    "hod = 10\n",
    "\n",
    "df = prepare_df(lat1, long1, lat2, long2, hod)\n",
    "predict(df)"
   ]
  },
  {
   "cell_type": "code",
   "execution_count": 49,
   "metadata": {
    "executionInfo": {
     "elapsed": 3,
     "status": "ok",
     "timestamp": 1628374704895,
     "user": {
      "displayName": "Bernardus Ari Kuncoro",
      "photoUrl": "https://lh3.googleusercontent.com/a-/AOh14GjH6bHvm6kXCz5hjYp3PgXaOz-6orULR60KKCw5yw=s64",
      "userId": "07819531828965038709"
     },
     "user_tz": -420
    },
    "id": "AEknjy3eEQwd"
   },
   "outputs": [],
   "source": []
  }
 ],
 "metadata": {
  "colab": {
   "authorship_tag": "ABX9TyN9KpJGqEj6DGCqLSGPwu0x",
   "collapsed_sections": [],
   "mount_file_id": "1XDyVR5LNDnSJ9-lU_j_tYyOBAhsmNEyV",
   "name": "Bangalore Travel Time Prediction - 20210808",
   "provenance": []
  },
  "kernelspec": {
   "display_name": "Python 3",
   "language": "python",
   "name": "python3"
  },
  "language_info": {
   "codemirror_mode": {
    "name": "ipython",
    "version": 3
   },
   "file_extension": ".py",
   "mimetype": "text/x-python",
   "name": "python",
   "nbconvert_exporter": "python",
   "pygments_lexer": "ipython3",
   "version": "3.7.6"
  }
 },
 "nbformat": 4,
 "nbformat_minor": 4
}
